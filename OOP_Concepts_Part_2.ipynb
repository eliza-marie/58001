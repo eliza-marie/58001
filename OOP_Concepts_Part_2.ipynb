{
  "nbformat": 4,
  "nbformat_minor": 0,
  "metadata": {
    "colab": {
      "provenance": [],
      "authorship_tag": "ABX9TyNKGLGo2DhMVgvABORAHyJ8",
      "include_colab_link": true
    },
    "kernelspec": {
      "name": "python3",
      "display_name": "Python 3"
    },
    "language_info": {
      "name": "python"
    }
  },
  "cells": [
    {
      "cell_type": "markdown",
      "metadata": {
        "id": "view-in-github",
        "colab_type": "text"
      },
      "source": [
        "<a href=\"https://colab.research.google.com/github/eliza-puno/OOP-58001/blob/main/OOP_Concepts_Part_2.ipynb\" target=\"_parent\"><img src=\"https://colab.research.google.com/assets/colab-badge.svg\" alt=\"Open In Colab\"/></a>"
      ]
    },
    {
      "cell_type": "code",
      "execution_count": 8,
      "metadata": {
        "colab": {
          "base_uri": "https://localhost:8080/"
        },
        "id": "cVZWgCi4blgV",
        "outputId": "a43360ea-4b9a-45d7-f280-c9954119cdf0"
      },
      "outputs": [
        {
          "output_type": "stream",
          "name": "stdout",
          "text": [
            "Griffon Vulture flies above the clouds\n",
            "Common Crane flies above the clouds\n",
            "Emu is the national bird of the Philippines\n"
          ]
        }
      ],
      "source": [
        "#Class with Multiple Objects\n",
        "\n",
        "class Birds:\n",
        "  def __init__(self, bird_name):\n",
        "    self.bird_name = bird_name\n",
        "  def flying_bird(self):\n",
        "    print(f\"{self.bird_name} flies above the clouds\")\n",
        "  def non_flying_bird(self):\n",
        "    print(f\"{self.bird_name} is the national bird of the Philippines\")\n",
        "\n",
        "vulture = Birds(\"Griffon Vulture\")\n",
        "crane = Birds(\"Common Crane\")\n",
        "emu = Birds (\"Emu\")\n",
        "\n",
        "vulture.flying_bird()\n",
        "crane.flying_bird()\n",
        "emu.non_flying_bird()"
      ]
    },
    {
      "cell_type": "code",
      "source": [
        "#Encapsulation\n",
        "\n",
        "class foo:\n",
        "  def __init__(self, a, b):\n",
        "    self.__a = a\n",
        "    self.__b = b\n",
        "  def add(self):\n",
        "    return self.__a + self.__b\n",
        "\n",
        "foo_object = foo(25,10)\n",
        "foo_object.add()\n",
        "foo_object.a = 50\n",
        "foo_object.add()\n"
      ],
      "metadata": {
        "colab": {
          "base_uri": "https://localhost:8080/"
        },
        "id": "73wIRqA0ib22",
        "outputId": "f7b3a666-2191-456f-e2a8-5baa5a95c974"
      },
      "execution_count": 12,
      "outputs": [
        {
          "output_type": "execute_result",
          "data": {
            "text/plain": [
              "35"
            ]
          },
          "metadata": {},
          "execution_count": 12
        }
      ]
    },
    {
      "cell_type": "code",
      "source": [
        "class Counter:\n",
        "  def __init__(self):\n",
        "    self.__current = 0\n",
        "  def increment(self):\n",
        "    self.__current += 1\n",
        "  def value(self):\n",
        "    return self.__current\n",
        "  \n",
        "  def reset(self):\n",
        "    self.__current = 0\n",
        "\n",
        "count = Counter()\n",
        "count.increment()\n",
        "count.value()\n",
        "count.reset()\n",
        "count.increment()\n",
        "count.value()"
      ],
      "metadata": {
        "colab": {
          "base_uri": "https://localhost:8080/"
        },
        "id": "b_xdY64fkvK8",
        "outputId": "2ee99d97-9981-404a-8f2f-eae7bb72d496"
      },
      "execution_count": 13,
      "outputs": [
        {
          "output_type": "execute_result",
          "data": {
            "text/plain": [
              "1"
            ]
          },
          "metadata": {},
          "execution_count": 13
        }
      ]
    },
    {
      "cell_type": "code",
      "source": [
        "#Inheritance\n",
        "\n",
        "class Person:\n",
        "  def __init__(self, name, birthday):\n",
        "    self.name = name\n",
        "    self.birthday = birthday\n",
        "  def display(self):\n",
        "    print(f\"My name is\", self.name)\n",
        "    print(f\"My birthday is\", self.birthday)\n",
        "\n",
        "class Student(Person):\n",
        "  pass\n",
        "class Teacher(Person):\n",
        "  pass\n",
        "\n",
        "student =  Student(\"Elizaror\", \"April 18, 2003\")\n",
        "student.display()\n",
        "teacher = Teacher(\"Barney\", \"November 1, 2023\")\n",
        "teacher.display()"
      ],
      "metadata": {
        "colab": {
          "base_uri": "https://localhost:8080/"
        },
        "id": "HR39GDOvllRv",
        "outputId": "418099f9-4797-4942-f3a3-9cfc9bbab74e"
      },
      "execution_count": 17,
      "outputs": [
        {
          "output_type": "stream",
          "name": "stdout",
          "text": [
            "My name is Elizaror\n",
            "My birthday is April 18, 2003\n",
            "My name is Barney\n",
            "My birthday is November 1, 2023\n"
          ]
        }
      ]
    },
    {
      "cell_type": "code",
      "source": [
        "class Shape:\n",
        "  def __init__(self, side, name):\n",
        "    self.__side = side\n",
        "    self.__name = name\n",
        "  def display(self):\n",
        "    print(f\"The sides of the {self.__name} is:\", self.__side)\n",
        "\n",
        "class Oblong(Shape):\n",
        "  pass\n",
        "class Hexagon(Shape):\n",
        "  pass\n",
        "class Pentagon(Shape):\n",
        "  pass\n",
        "class Trapezoid(Shape):\n",
        "  pass\n",
        "class Rectangle(Shape):\n",
        "  pass\n",
        "\n",
        "oblong = Oblong(0,\"Oblong\")\n",
        "oblong.display()\n",
        "hexagon = Hexagon(6,\"Hexagon\")\n",
        "hexagon.display()\n",
        "pentagon = Pentagon(5,\"Pentagon\")\n",
        "pentagon.display()\n",
        "trapezoid = Trapezoid(4,\"Trapezoid\")\n",
        "trapezoid.display()\n",
        "rectangle = Rectangle(4,\"Rectangle\")\n",
        "rectangle.display()"
      ],
      "metadata": {
        "colab": {
          "base_uri": "https://localhost:8080/"
        },
        "id": "JdjbftRbnGaf",
        "outputId": "99c2a69e-2e11-4562-b78b-7d2259a632e8"
      },
      "execution_count": 21,
      "outputs": [
        {
          "output_type": "stream",
          "name": "stdout",
          "text": [
            "The sides of the Oblong is: 0\n",
            "The sides of the Hexagon is: 6\n",
            "The sides of the Pentagon is: 5\n",
            "The sides of the Trapezoid is: 4\n",
            "The sides of the Rectangle is: 4\n"
          ]
        }
      ]
    }
  ]
}