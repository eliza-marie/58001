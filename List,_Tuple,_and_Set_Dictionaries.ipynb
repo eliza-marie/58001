{
  "nbformat": 4,
  "nbformat_minor": 0,
  "metadata": {
    "colab": {
      "provenance": [],
      "authorship_tag": "ABX9TyMuvgnDddBXnfSx7Cmz2nZC",
      "include_colab_link": true
    },
    "kernelspec": {
      "name": "python3",
      "display_name": "Python 3"
    },
    "language_info": {
      "name": "python"
    }
  },
  "cells": [
    {
      "cell_type": "markdown",
      "metadata": {
        "id": "view-in-github",
        "colab_type": "text"
      },
      "source": [
        "<a href=\"https://colab.research.google.com/github/eliza-puno/OOP-58001/blob/main/List%2C_Tuple%2C_and_Set_Dictionaries.ipynb\" target=\"_parent\"><img src=\"https://colab.research.google.com/assets/colab-badge.svg\" alt=\"Open In Colab\"/></a>"
      ]
    },
    {
      "cell_type": "markdown",
      "source": [
        "Functions"
      ],
      "metadata": {
        "id": "tvHxPVmNHpXT"
      }
    },
    {
      "cell_type": "code",
      "execution_count": 7,
      "metadata": {
        "colab": {
          "base_uri": "https://localhost:8080/"
        },
        "id": "HceeAVcqGzBs",
        "outputId": "94729379-ff75-4b14-b632-c92742f5284c"
      },
      "outputs": [
        {
          "output_type": "execute_result",
          "data": {
            "text/plain": [
              "50"
            ]
          },
          "metadata": {},
          "execution_count": 7
        }
      ],
      "source": [
        "class Shapes:\n",
        "  def __init__(self,length,width) :\n",
        "    self.side = side\n",
        "    self.width = width\n",
        "  def area(self):\n",
        "    return self.length * self.width\n",
        "rectangle = Shapes(10,5)\n",
        "rectangle.area()\n",
        "\n"
      ]
    },
    {
      "cell_type": "code",
      "source": [
        "#create your own function that will show your own full name, age\n",
        "class Persons:\n",
        "  def __init__(self,name,age) :\n",
        "    self.name = name\n",
        "    self.age = age\n",
        "  def det(self):\n",
        "    return self.name , self.age\n",
        "details = Persons(\"Eliza Marie Puno\",\"19\")\n",
        "details.det()"
      ],
      "metadata": {
        "colab": {
          "base_uri": "https://localhost:8080/"
        },
        "id": "Scxew_jPPwJk",
        "outputId": "73d18c2d-7f4e-4432-ae92-00077f1c5eb6"
      },
      "execution_count": 12,
      "outputs": [
        {
          "output_type": "execute_result",
          "data": {
            "text/plain": [
              "('Eliza Marie Puno', '19')"
            ]
          },
          "metadata": {},
          "execution_count": 12
        }
      ]
    },
    {
      "cell_type": "code",
      "source": [
        "pow (10,2)\n",
        "array = [\"apple\" , \"banana\", \"orange\"]\n",
        "array.insert(0,\"cherry\")\n",
        "print(array)"
      ],
      "metadata": {
        "colab": {
          "base_uri": "https://localhost:8080/"
        },
        "id": "QMdTQzFvNNsx",
        "outputId": "38f62678-0ab2-4460-ec83-68dd083848b7"
      },
      "execution_count": 6,
      "outputs": [
        {
          "output_type": "stream",
          "name": "stdout",
          "text": [
            "['cherry', 'apple', 'banana', 'orange']\n"
          ]
        }
      ]
    },
    {
      "cell_type": "markdown",
      "source": [
        "List"
      ],
      "metadata": {
        "id": "9QzssYw4UyRs"
      }
    },
    {
      "cell_type": "code",
      "source": [
        "pi = 3.15159\n",
        "varlist = ['abc',1,'def',2,'shen',3]\n",
        "print(varlist [0])\n",
        "\n",
        "varlist.append('ghi')\n",
        "print(varlist)\n",
        "varlist.remove('shen')\n",
        "print(varlist)\n",
        "varlist.insert(3,3)\n",
        "print(varlist)"
      ],
      "metadata": {
        "colab": {
          "base_uri": "https://localhost:8080/"
        },
        "id": "BgOZKr1gUzSM",
        "outputId": "61f3b935-9458-4649-9fa2-c2a8449b92f8"
      },
      "execution_count": 19,
      "outputs": [
        {
          "output_type": "stream",
          "name": "stdout",
          "text": [
            "abc\n",
            "['abc', 1, 'def', 2, 'shen', 3, 'ghi']\n",
            "['abc', 1, 'def', 2, 3, 'ghi']\n",
            "['abc', 1, 'def', 3, 2, 3, 'ghi']\n"
          ]
        }
      ]
    },
    {
      "cell_type": "markdown",
      "source": [
        "Dictionaries"
      ],
      "metadata": {
        "id": "nhI5A-MYWMrq"
      }
    },
    {
      "cell_type": "code",
      "source": [
        "students = {\n",
        "    1:\"ana\",\n",
        "    2:\"angel\",\n",
        "    3:\"shen\",\n",
        "    4:\"leni\",\n",
        "    4:\"jasper\",\n",
        "\n",
        "\n",
        "}\n",
        "\n",
        "print(students)"
      ],
      "metadata": {
        "colab": {
          "base_uri": "https://localhost:8080/"
        },
        "id": "1eX_3v9HWOTi",
        "outputId": "8c818e55-e1a2-4a43-dda6-0289fc0fff6b"
      },
      "execution_count": 21,
      "outputs": [
        {
          "output_type": "stream",
          "name": "stdout",
          "text": [
            "{1: 'ana', 2: 'angel', 3: 'shen', 4: 'jasper'}\n"
          ]
        }
      ]
    }
  ]
}