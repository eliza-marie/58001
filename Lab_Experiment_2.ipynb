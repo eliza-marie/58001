{
  "nbformat": 4,
  "nbformat_minor": 0,
  "metadata": {
    "colab": {
      "provenance": [],
      "authorship_tag": "ABX9TyNcfcBGJuItmxnLV7BBSpgO",
      "include_colab_link": true
    },
    "kernelspec": {
      "name": "python3",
      "display_name": "Python 3"
    },
    "language_info": {
      "name": "python"
    }
  },
  "cells": [
    {
      "cell_type": "markdown",
      "metadata": {
        "id": "view-in-github",
        "colab_type": "text"
      },
      "source": [
        "<a href=\"https://colab.research.google.com/github/eliza-puno/OOP-58001/blob/main/Lab_Experiment_2.ipynb\" target=\"_parent\"><img src=\"https://colab.research.google.com/assets/colab-badge.svg\" alt=\"Open In Colab\"/></a>"
      ]
    },
    {
      "cell_type": "code",
      "source": [
        "class Circle:\n",
        "  def __init__(self, radius):\n",
        "    self.radius = radius\n",
        "\n",
        "  def area(self):\n",
        "    return round((3.14) * (self.radius)**2, 2)\n",
        "\n",
        "  def perimeter(self):\n",
        "    return round(2 * (3.14) * self.radius, 2)\n",
        "\n",
        "  def display(self):\n",
        "    print(\"The area of the circle is:\", self.area())\n",
        "    print(\"While the perimeter is:\", self.perimeter())\n",
        "\n",
        "print(\"Please choose your chosen radius of your Circle: \")\n",
        "Radius = float(input())\n",
        "\n",
        "circle = Circle(Radius)\n",
        "circle.display()\n",
        "\f"
      ],
      "metadata": {
        "colab": {
          "base_uri": "https://localhost:8080/"
        },
        "id": "xGoStgiffAma",
        "outputId": "106f9c6a-b659-44b9-bd38-34256781347c"
      },
      "execution_count": 8,
      "outputs": [
        {
          "output_type": "stream",
          "name": "stdout",
          "text": [
            "Please choose your chosen radius of your Circle: \n",
            "25\n",
            "The area of the circle is: 1962.5\n",
            "While the perimeter is: 157.0\n"
          ]
        }
      ]
    }
  ]
}