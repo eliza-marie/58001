{
  "nbformat": 4,
  "nbformat_minor": 0,
  "metadata": {
    "colab": {
      "provenance": [],
      "authorship_tag": "ABX9TyPlsDNehvJyFSVafvPBSmd3",
      "include_colab_link": true
    },
    "kernelspec": {
      "name": "python3",
      "display_name": "Python 3"
    },
    "language_info": {
      "name": "python"
    }
  },
  "cells": [
    {
      "cell_type": "markdown",
      "metadata": {
        "id": "view-in-github",
        "colab_type": "text"
      },
      "source": [
        "<a href=\"https://colab.research.google.com/github/eliza-puno/OOP-58001/blob/main/Hands_on_1.ipynb\" target=\"_parent\"><img src=\"https://colab.research.google.com/assets/colab-badge.svg\" alt=\"Open In Colab\"/></a>"
      ]
    },
    {
      "cell_type": "code",
      "execution_count": 20,
      "metadata": {
        "id": "8hw1M8x9ajiU",
        "colab": {
          "base_uri": "https://localhost:8080/"
        },
        "outputId": "106b1ec8-9240-41af-b496-22316a00844b"
      },
      "outputs": [
        {
          "output_type": "stream",
          "name": "stdout",
          "text": [
            "Student 1 grades: 85 90 92\n",
            "Student 1 average grade: 89.0\n",
            "Student 2 grades: 75 80 85\n",
            "Student 2 average grade: 80.0\n",
            "Student 3 grades: 90 95 88\n",
            "Student 3 average grade: 91.0\n"
          ]
        }
      ],
      "source": [
        "class Person:\n",
        "    def __init__(self, name, prelim, midterm, final):\n",
        "        self.name = name\n",
        "        self.__pre = prelim\n",
        "        self.__mid = midterm\n",
        "        self.__fin = final\n",
        "        \n",
        "    def pre_grade(self):\n",
        "        return self.__pre\n",
        "    \n",
        "    def mid_grade(self):\n",
        "        return self.__mid\n",
        "    \n",
        "    def fin_grade(self):\n",
        "        return self.__fin\n",
        "    \n",
        "    def grade_average(self):\n",
        "        return (self.__pre + self.__mid + self.__fin) / 3\n",
        "\n",
        "std1 = Person(\"Student 1\", 85, 90, 92)\n",
        "std2 = Person(\"Student 2\", 75, 80, 85)\n",
        "std3 = Person(\"Student 3\", 90, 95, 88)\n",
        "\n",
        "print(f\"Student 1 grades:\", std1.pre_grade(), std1.mid_grade(), std1.fin_grade())\n",
        "print(f\"Student 1 average grade:\", std1.grade_average())\n",
        "print(f\"Student 2 grades:\", std2.pre_grade(), std2.mid_grade(), std2.fin_grade())\n",
        "print(f\"Student 2 average grade:\", std2.grade_average())\n",
        "print(f\"Student 3 grades:\", std3.pre_grade(), std3.mid_grade(), std3.fin_grade())\n",
        "print(f\"Student 3 average grade:\", std3.grade_average())\n",
        "\n"
      ]
    }
  ]
}